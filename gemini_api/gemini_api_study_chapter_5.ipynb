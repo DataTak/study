{
 "cells": [
  {
   "cell_type": "markdown",
   "metadata": {},
   "source": [
    "# 5. 스트림릿(Streamlit)으로 챗봇 구현하기\n",
    "## 5.1 스트림릿 기본 사용 방법\n",
    "### 5.1.1. 스트림릿 설치"
   ]
  },
  {
   "cell_type": "code",
   "execution_count": null,
   "metadata": {},
   "outputs": [],
   "source": [
    "pip install streamlit"
   ]
  },
  {
   "cell_type": "markdown",
   "metadata": {},
   "source": [
    "- 에러가 발생한다면..(no module named 'streamlit.cli')\n",
    "- streamlit-script.py 파일을 찾아서\n",
    "- from streamlit.web.cli import main    => .web 추가해주기"
   ]
  },
  {
   "cell_type": "markdown",
   "metadata": {},
   "source": [
    "### 5.1.2 기본 사용방법"
   ]
  },
  {
   "cell_type": "code",
   "execution_count": null,
   "metadata": {},
   "outputs": [],
   "source": [
    "# st_test1.py 파일로 만들어 실행\n",
    "# 실행은 python -m streamlit run ./gemini_api/streamlit/st_test1.py\n",
    "import streamlit as st\n",
    "text = \"마지막 레이어의 로짓값을 가정\"\n",
    "st.header(text, divider='rainbow')\n",
    "st.subheader(text)\n",
    "st.title(text)\n",
    "st.write(text)\n",
    "st.write(\"# Bar Chart\")\n",
    "vocab_logits = {\"나는\": 0.01,\"내일\": 0.03,\"오늘\": 0.25,\"어제\": 0.3,\n",
    "                \"산에\": 0.4,\"학교에\": 0.5,\"집에\": 0.65,\n",
    "                \"오른다\": 1.2,\"간다\": 1.05,\"왔다\": 0.95}\n",
    "st.bar_chart(vocab_logits)\n",
    "st.caption(text)"
   ]
  },
  {
   "cell_type": "markdown",
   "metadata": {},
   "source": [
    "- ![스트림릿공식문서](https://docs.streamlit.io/develop/api-reference)"
   ]
  },
  {
   "cell_type": "markdown",
   "metadata": {},
   "source": []
  },
  {
   "cell_type": "markdown",
   "metadata": {},
   "source": [
    "## 5.2. 스트림릿 핵심 콘셉트\n",
    "### 5.2.1. 반응형 프로그래밍\n",
    "![스트림릿동작원리](https://wikidocs.net/images/page/231440/%ED%95%B5%EC%8B%AC%EC%BD%98%EC%85%89%ED%8A%B8.png)\n",
    "- 스트림릿 환경에서 수행되는 파이썬 스크립트는 스트림리셍서 관리하는 프론트엔드 엔진으로 전달, 화면상의 컴포넌트로 출력\n",
    "- 스트림릿의 프론트엔드 엔진은 SPA(Single Page Application)로 동작. \n",
    "    - 최초 출력 이후에는 웹 페이지 전체를 리로드하지 않음.\n",
    "    - 서버로부터 받은 데이터나 정보를 바탕으로 화면 업데이트\n",
    "    - 화면상의 컴포넌트에 인터렉션을 가하면, 스트림릿 프레임워크는 애플리케이션의 상태를 최신화하기 위해 파이썬 스크립트 전체를 다시 실행함."
   ]
  },
  {
   "cell_type": "markdown",
   "metadata": {},
   "source": [
    "### 5.2.2. 데이터 캐싱"
   ]
  },
  {
   "cell_type": "markdown",
   "metadata": {},
   "source": [
    "- 전체 스크립트를 다시 실행하면 개발 과정은 단순화 됨.\n",
    "    - 하지만, 중복된 내용을 재실행하는 문제점이 존재\n",
    "- 파이썬 스크립 전체가 다시 실행될 때의 대기시간 발생 문제를 개선하기 위해 캐싱 매커니즘 제공\n",
    "    - @st.cache_data 데코레이터 사용하면 함수 실행 결과가 캐시에 보관됨.\n",
    "    - 이후 파라미터가 달라졌거나 구현 내용이 달라진 경우에 한해서만 함수를 다시 실행.\n",
    "    - 함수 코드가 변경되지 않았고, 이전에 호출된 파라미터와 동일하다면, 캐시에 보관되어 있는 결과를 반환함으로써 불필요한 재실행을 막음."
   ]
  },
  {
   "cell_type": "code",
   "execution_count": null,
   "metadata": {},
   "outputs": [],
   "source": [
    "# 활용 예시\n",
    "import streamlit as st\n",
    "import time\n",
    "\n",
    "@st.cache_data     # 해당 부분이 캐시 사용\n",
    "def get_vocab_logits(param=0):\n",
    "    print(f\"get_vocab_logits({param}) starting\")\n",
    "    time.sleep(10)\n",
    "    vocab_logits = {\"나는\": 0.01,\"내일\": 0.03,\"오늘\": 0.25,\"어제\": 0.3,\n",
    "                    \"산에\": 0.4,\"학교에\": 0.5,\"집에\": 0.65,\n",
    "                    \"오른다\": 1.2,\"간다\": 1.05,\"왔다\": 0.95}\n",
    "    vocab_logits = {word: logit + param for word, logit in vocab_logits.items()}\n",
    "    print(f\"get_vocab_logits({param}) ending\")    \n",
    "    return vocab_logits\n",
    "\n",
    "text = \"마지막 레이어의 로짓값을 가정\"\n",
    "st.header(text, divider='rainbow')\n",
    "st.subheader(text)\n",
    "st.title(text)\n",
    "st.write(text)\n",
    "\n",
    "user_input = st.number_input(label=\"로짓값에 더해지는 숫자를 입력하세요.\", value=0)\n",
    "\n",
    "st.write(\"# Bar Chart\")\n",
    "st.bar_chart(get_vocab_logits(user_input))\n",
    "st.caption(text)"
   ]
  },
  {
   "cell_type": "markdown",
   "metadata": {},
   "source": [
    "- 주의사항\n",
    "    - @st.cache_data는 함수에 전달되는 파라미터와 구현 내용이 동일하다면 함수의 호출 결과 역시 항상 동일할거라는 가정 하에 캐싱 메커니즘을 적용\n",
    "    - 함수 내에서 데이터베이스에 접근하거나 네트워크 통신 등을 통해 그 결과가 변경되도록 코드가 구현되어 있다면 동작하지 않을 수 있음.\n",
    "    - 함수 내의 전역변수 같은 외부 요소에 의존하는 경우에도 올바르게 반영되지 않을 수 있음."
   ]
  },
  {
   "cell_type": "markdown",
   "metadata": {},
   "source": [
    "### 5.3.3. 리소스 캐싱"
   ]
  },
  {
   "cell_type": "markdown",
   "metadata": {},
   "source": [
    "- @st.cache_resource 데코레이터\n",
    "    - 머신러닝 모델이나 데이터베이스 커네션 등의 리소스를 효율적으로 사용하도록 도움.\n",
    "    - 프로그램에 사용되는 리소스를 한 번만 로드하거나 연결하고, 이후의 호출에서는 캐싱된 인스턴스를 재사용함으로써 처리 시간을 단축시킴\n",
    "- @st.cache_data를 사용하면 함수에서 산출된 최종 결괏값을 복제하여 반환함.\n",
    "- @st.cache_resource를 사용하면 함수의 결괏값을 가리키는 참조(레퍼런스)를 반환함.<br>\n",
    "![](https://wikidocs.net/images/page/231796/st_cache_data%EB%A5%BC_%EC%82%AC%EC%9A%A9%ED%95%98%EB%8A%94%EA%B2%BD%EC%9A%B0.png) ![](https://wikidocs.net/images/page/231796/st_cache_resource%EB%A5%BC_%EC%82%AC%EC%9A%A9%ED%95%98%EB%8A%94%EA%B2%BD%EC%9A%B0.png)"
   ]
  },
  {
   "cell_type": "markdown",
   "metadata": {},
   "source": [
    "- @st.cache_data\n",
    "    - 직렬화가 가능하고 데이터의 불변성이 필요한 경우 사용\n",
    "    - 복잡한 연산 결과를 재사용하려고 할 때\n",
    "- @st.cache_resource\n",
    "    - 직렬화할 수 없으며 결과를 전역적으로 공유해야 하는 경우\n",
    "    - 프로그램 내에서 자원을 효율적으로 관리하고 싶을 때"
   ]
  },
  {
   "cell_type": "markdown",
   "metadata": {},
   "source": [
    "### 5.2.4 세션 상태 관리"
   ]
  },
  {
   "cell_type": "markdown",
   "metadata": {},
   "source": [
    "- 사용자와 상호작용하는 챗봇을 구현하려면 사용자별 세션 정보가 필요\n",
    "- 만약 멀티턴 대화를 한다면 챗봇과 사용자가 나눈 대화 이력을 모델의 입력값으로 전달해야 하므로 동시에 여러 명의 사용자가 접속한다면 사용자별로 서로 다른 이력이 관리되어야 함.\n",
    "- 스트림릿 프레임워크는 session_state 객체를 통해 세션 정보를 관리할 수 있게 한다."
   ]
  },
  {
   "cell_type": "markdown",
   "metadata": {},
   "source": [
    "## 5.3. 제미나이 챗봇 만들기"
   ]
  },
  {
   "cell_type": "markdown",
   "metadata": {},
   "source": [
    "### 5.3.1. 메시지 컨테이터"
   ]
  },
  {
   "cell_type": "markdown",
   "metadata": {},
   "source": [
    "- st.chat_input 메서드를 호출하면 입력메시지 컨테이너가 나타남.\n",
    "\n",
    "    - `prompt = st.chat_input(\"메시지를 입력하세요.\")`\n",
    "    "
   ]
  },
  {
   "cell_type": "markdown",
   "metadata": {},
   "source": [
    "```\n",
    "import streamlit as st\n",
    "prompt = st.chat_input(\"메시지를 입력하세요.\")\n",
    "if prompt:\n",
    "    with st.chat_message(\"user\"):\n",
    "        st.write(prompt)\n",
    "    with st.chat_message(\"ai\", avatar=\"🤖\"):\n",
    "        st.write(\"이것은 인공지능 응답입니다.\")\n",
    "```\n",
    "\n",
    "- st.chat_message(name=\"이름\", avatar=\"이모지\") 형태로 작성가능\n",
    "    - user, assistant, ai, human 의 경우 사전 정의된 아바타가 출력\n"
   ]
  },
  {
   "cell_type": "code",
   "execution_count": null,
   "metadata": {},
   "outputs": [],
   "source": [
    "import streamlit as st\n",
    "st.title(\"Auto_Essay_Scoring System\")\n",
    "\n",
    "if \"chat_history\" not in st.session_state:\n",
    "    st.session_state.chat_history = []\n",
    "\n",
    "for content in st.session_state.chat_history:\n",
    "    with st.chat_message(content[\"role\"]):\n",
    "        st.markdown(content['message'])    \n",
    "\n",
    "if prompt := st.chat_input(\"메시지를 입력하세요.\"):\n",
    "    with st.chat_message(\"user\"):\n",
    "        st.markdown(prompt)\n",
    "        st.session_state.chat_history.append({\"role\": \"user\", \"message\": prompt})\n",
    "\n",
    "    with st.chat_message(\"ai\"):                \n",
    "        response = f'{prompt}... {prompt}... {prompt}...'\n",
    "        st.markdown(response)\n",
    "        st.session_state.chat_history.append({\"role\": \"ai\", \"message\": response})"
   ]
  },
  {
   "cell_type": "markdown",
   "metadata": {},
   "source": [
    "### 5.3.2. 제미나이 챗봇 단계별 구현하기"
   ]
  },
  {
   "cell_type": "code",
   "execution_count": null,
   "metadata": {},
   "outputs": [],
   "source": [
    "# st_chatbot.py 파일의 일부입니다.\n",
    "# 모델 가져오기\n",
    "@st.cache_resource\n",
    "def load_model():\n",
    "    model = genai.GenerativeModel('gemini-1.5-flash')\n",
    "print(\"model loaded...\")\n",
    "    return model\n",
    "\n",
    "model = load_model()"
   ]
  },
  {
   "cell_type": "code",
   "execution_count": null,
   "metadata": {},
   "outputs": [],
   "source": [
    "# 세션별 이력 관리\n",
    "## 별도의 딕셔너리 데이터 구조로 관리하지 않고, 제미나이 api의 chatsession 그대로 사용\n",
    "if \"chat_session\" not in st.session_state:\n",
    "    st.session_state[\"chat_session\"] = model.start_chat(history=[]) # ChatSession 반환"
   ]
  },
  {
   "cell_type": "code",
   "execution_count": null,
   "metadata": {},
   "outputs": [],
   "source": [
    "# 메시지 출력\n",
    "if prompt := st.chat_input(\"메시지를 입력하세요.\"):\n",
    "    with st.chat_message(\"user\"):\n",
    "        st.markdown(prompt)\n",
    "    with st.chat_message(\"ai\"):\n",
    "        response = st.session_state.chat_session.send_message(prompt)        \n",
    "        st.markdown(response.text)"
   ]
  },
  {
   "cell_type": "code",
   "execution_count": null,
   "metadata": {},
   "outputs": [],
   "source": [
    "#대화이력 출력\n",
    "for content in st.session_state.chat_session.history:\n",
    "    with st.chat_message(\"ai\" if content.role == \"model\" else \"user\"):\n",
    "        st.markdown(content.parts[0].text)"
   ]
  },
  {
   "cell_type": "markdown",
   "metadata": {},
   "source": [
    "- ChateSession 객체의 history에는 사용자의 언어모델이 나눈 대화이력이 role과 parts로 구분되어 들어 있음.\n",
    "- 세션 객체 들어 있는 history 정보를 활용하면 사용자와 제미나이가 나누었던 대화가 화면에 이력으로 출력됨.\n",
    "- history에 있는 role을 스트림릿에 등록되어 있는 아바타 이름과 맞추기 위해 chat_message 메서드 호출시 'model'을 'ai'로 변경하는 코드 추가"
   ]
  }
 ],
 "metadata": {
  "kernelspec": {
   "display_name": "base",
   "language": "python",
   "name": "python3"
  },
  "language_info": {
   "codemirror_mode": {
    "name": "ipython",
    "version": 3
   },
   "file_extension": ".py",
   "mimetype": "text/x-python",
   "name": "python",
   "nbconvert_exporter": "python",
   "pygments_lexer": "ipython3",
   "version": "3.11.7"
  }
 },
 "nbformat": 4,
 "nbformat_minor": 2
}
