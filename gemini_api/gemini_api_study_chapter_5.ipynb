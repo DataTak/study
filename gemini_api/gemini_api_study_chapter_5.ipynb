{
 "cells": [
  {
   "cell_type": "markdown",
   "metadata": {},
   "source": [
    "# 5. 스트림릿(Streamlit)으로 챗봇 구현하기\n",
    "## 5.1 스트림릿 기본 사용 방법\n",
    "### 5.1.1. 스트림릿 설치"
   ]
  },
  {
   "cell_type": "code",
   "execution_count": null,
   "metadata": {},
   "outputs": [],
   "source": [
    "pip install streamlit"
   ]
  },
  {
   "cell_type": "markdown",
   "metadata": {},
   "source": [
    "- 에러가 발생한다면..(no module named 'streamlit.cli')\n",
    "- streamlit-script.py 파일을 찾아서\n",
    "- from streamlit.web.cli import main    => .web 추가해주기"
   ]
  },
  {
   "cell_type": "markdown",
   "metadata": {},
   "source": [
    "### 5.1.2 기본 사용방법"
   ]
  },
  {
   "cell_type": "code",
   "execution_count": null,
   "metadata": {},
   "outputs": [],
   "source": [
    "# st_test1.py 파일로 만들어 실행\n",
    "# 실행은 python -m streamlit run ./gemini_api/streamlit/st_test1.py\n",
    "import streamlit as st\n",
    "text = \"마지막 레이어의 로짓값을 가정\"\n",
    "st.header(text, divider='rainbow')\n",
    "st.subheader(text)\n",
    "st.title(text)\n",
    "st.write(text)\n",
    "st.write(\"# Bar Chart\")\n",
    "vocab_logits = {\"나는\": 0.01,\"내일\": 0.03,\"오늘\": 0.25,\"어제\": 0.3,\n",
    "                \"산에\": 0.4,\"학교에\": 0.5,\"집에\": 0.65,\n",
    "                \"오른다\": 1.2,\"간다\": 1.05,\"왔다\": 0.95}\n",
    "st.bar_chart(vocab_logits)\n",
    "st.caption(text)"
   ]
  },
  {
   "cell_type": "markdown",
   "metadata": {},
   "source": [
    "- ![스트림릿공식문서](https://docs.streamlit.io/develop/api-reference)"
   ]
  },
  {
   "cell_type": "markdown",
   "metadata": {},
   "source": []
  },
  {
   "cell_type": "code",
   "execution_count": 8,
   "metadata": {},
   "outputs": [
    {
     "name": "stdout",
     "output_type": "stream",
     "text": [
      "NanumGothic\n"
     ]
    }
   ],
   "source": [
    "import matplotlib.font_manager as fm\n",
    "\n",
    "# 특정 단어('Nanum')가 포함된 폰트만 출력\n",
    "for font in fm.fontManager.ttflist:\n",
    "    if \"Nanum\" in font.name:  # \"Nanum\" 전체 단어 포함 여부 확인\n",
    "        print(font.name)\n"
   ]
  },
  {
   "cell_type": "code",
   "execution_count": null,
   "metadata": {},
   "outputs": [],
   "source": []
  }
 ],
 "metadata": {
  "kernelspec": {
   "display_name": "base",
   "language": "python",
   "name": "python3"
  },
  "language_info": {
   "codemirror_mode": {
    "name": "ipython",
    "version": 3
   },
   "file_extension": ".py",
   "mimetype": "text/x-python",
   "name": "python",
   "nbconvert_exporter": "python",
   "pygments_lexer": "ipython3",
   "version": "3.11.7"
  }
 },
 "nbformat": 4,
 "nbformat_minor": 2
}
